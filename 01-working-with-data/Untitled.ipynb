{
 "cells": [
  {
   "cell_type": "markdown",
   "id": "c6cf6917",
   "metadata": {},
   "source": [
    "# Regular Expressions"
   ]
  },
  {
   "cell_type": "code",
   "execution_count": 3,
   "id": "75092ed0",
   "metadata": {},
   "outputs": [],
   "source": [
    "import re"
   ]
  },
  {
   "cell_type": "code",
   "execution_count": 25,
   "id": "e5e8986c",
   "metadata": {},
   "outputs": [],
   "source": [
    "doc = \"Regular expressions can be concatenated to form new regular expressions; 08 \" \\\n",
    "\"if A and B are both regular expressions, then AB is also a regular expression. 12 \" \\\n",
    "\"In general, if a string p matches A and another string q matches B, the string pq will match AB. 09 \" \\\n",
    "\"This holds unless A or B contain low precedence operations; boundary conditions between A and B; 19 \" \\\n",
    "\"or have numbered group references. 22 Thus, complex expressions can easily be constructed 1454 \" \\\n",
    "\"from simpler primitive expressions like the ones described here. Please email us at aaa@bbb.cc for more info.\""
   ]
  },
  {
   "cell_type": "code",
   "execution_count": 6,
   "id": "cca9f5b4",
   "metadata": {},
   "outputs": [
    {
     "data": {
      "text/plain": [
       "<re.Match object; span=(122, 124), match='AB'>"
      ]
     },
     "execution_count": 6,
     "metadata": {},
     "output_type": "execute_result"
    }
   ],
   "source": [
    "re.search('AB', doc)"
   ]
  },
  {
   "cell_type": "code",
   "execution_count": 7,
   "id": "e46ab846",
   "metadata": {},
   "outputs": [
    {
     "data": {
      "text/plain": [
       "'AB'"
      ]
     },
     "execution_count": 7,
     "metadata": {},
     "output_type": "execute_result"
    }
   ],
   "source": [
    "doc[122:124]"
   ]
  },
  {
   "cell_type": "code",
   "execution_count": 8,
   "id": "4e91bed9",
   "metadata": {},
   "outputs": [
    {
     "data": {
      "text/plain": [
       "['AB', 'AB']"
      ]
     },
     "execution_count": 8,
     "metadata": {},
     "output_type": "execute_result"
    }
   ],
   "source": [
    "re.findall('AB', doc)"
   ]
  },
  {
   "cell_type": "code",
   "execution_count": 9,
   "id": "3f243c78",
   "metadata": {},
   "outputs": [
    {
     "data": {
      "text/plain": [
       "<re.Match object; span=(73, 74), match='0'>"
      ]
     },
     "execution_count": 9,
     "metadata": {},
     "output_type": "execute_result"
    }
   ],
   "source": [
    "re.search('[0-9]', doc)"
   ]
  },
  {
   "cell_type": "code",
   "execution_count": 10,
   "id": "a75ea28b",
   "metadata": {},
   "outputs": [
    {
     "data": {
      "text/plain": [
       "'0'"
      ]
     },
     "execution_count": 10,
     "metadata": {},
     "output_type": "execute_result"
    }
   ],
   "source": [
    "doc[73:74]"
   ]
  },
  {
   "cell_type": "code",
   "execution_count": 11,
   "id": "d7438770",
   "metadata": {},
   "outputs": [
    {
     "data": {
      "text/plain": [
       "['0', '8', '1', '2', '0', '9', '1', '9', '2', '2', '1', '4', '5']"
      ]
     },
     "execution_count": 11,
     "metadata": {},
     "output_type": "execute_result"
    }
   ],
   "source": [
    "re.findall('[0-9]', doc)"
   ]
  },
  {
   "cell_type": "code",
   "execution_count": 12,
   "id": "8bf11de4",
   "metadata": {},
   "outputs": [
    {
     "data": {
      "text/plain": [
       "['08', '12', '09', '19', '22', '14']"
      ]
     },
     "execution_count": 12,
     "metadata": {},
     "output_type": "execute_result"
    }
   ],
   "source": [
    "re.findall('[0-9][0-9]', doc)"
   ]
  },
  {
   "cell_type": "code",
   "execution_count": 15,
   "id": "fe94734f",
   "metadata": {},
   "outputs": [
    {
     "data": {
      "text/plain": [
       "['08', '12', '09', '19', '22', '1454']"
      ]
     },
     "execution_count": 15,
     "metadata": {},
     "output_type": "execute_result"
    }
   ],
   "source": [
    "re.findall('[0-9]*[0-9]', doc)"
   ]
  },
  {
   "cell_type": "code",
   "execution_count": 22,
   "id": "453b1692",
   "metadata": {},
   "outputs": [
    {
     "data": {
      "text/plain": [
       "['and ', 'are ', 'and ', 'ain ', 'ary ', 'and ', 'ave ']"
      ]
     },
     "execution_count": 22,
     "metadata": {},
     "output_type": "execute_result"
    }
   ],
   "source": [
    "re.findall('a[a-z]{2}\\s', doc)"
   ]
  },
  {
   "cell_type": "code",
   "execution_count": 23,
   "id": "208aa69a",
   "metadata": {},
   "outputs": [
    {
     "data": {
      "text/plain": [
       "<re.Match object; span=(516, 517), match='.'>"
      ]
     },
     "execution_count": 23,
     "metadata": {},
     "output_type": "execute_result"
    }
   ],
   "source": [
    "re.search('\\.$', doc)"
   ]
  },
  {
   "cell_type": "code",
   "execution_count": 26,
   "id": "12e3c1d2",
   "metadata": {},
   "outputs": [
    {
     "data": {
      "text/plain": [
       "<re.Match object; span=(537, 547), match='aaa@bbb.cc'>"
      ]
     },
     "execution_count": 26,
     "metadata": {},
     "output_type": "execute_result"
    }
   ],
   "source": [
    "re.search('[a-zA-Z0-9]+@[a-zA-Z0-9]+\\.[a-zA-Z]{2,3}', doc)"
   ]
  },
  {
   "cell_type": "code",
   "execution_count": 27,
   "id": "aa2c0eee",
   "metadata": {},
   "outputs": [
    {
     "data": {
      "text/plain": [
       "'aaa@bbb.cc'"
      ]
     },
     "execution_count": 27,
     "metadata": {},
     "output_type": "execute_result"
    }
   ],
   "source": [
    "doc[537:547]"
   ]
  },
  {
   "cell_type": "markdown",
   "id": "871ae2f9",
   "metadata": {},
   "source": [
    "# NumPy"
   ]
  },
  {
   "cell_type": "code",
   "execution_count": 28,
   "id": "6515a9e7",
   "metadata": {},
   "outputs": [],
   "source": [
    "import numpy as np"
   ]
  },
  {
   "cell_type": "code",
   "execution_count": 30,
   "id": "c69c948a",
   "metadata": {},
   "outputs": [],
   "source": [
    "values = np.array([23, 56, 123, 44, 231, 12, 109, 134, 28])"
   ]
  },
  {
   "cell_type": "code",
   "execution_count": 31,
   "id": "a89cd6ae",
   "metadata": {},
   "outputs": [
    {
     "data": {
      "text/plain": [
       "84.44444444444444"
      ]
     },
     "execution_count": 31,
     "metadata": {},
     "output_type": "execute_result"
    }
   ],
   "source": [
    "values.mean()"
   ]
  },
  {
   "cell_type": "code",
   "execution_count": 32,
   "id": "0fe9729b",
   "metadata": {},
   "outputs": [
    {
     "data": {
      "text/plain": [
       "760"
      ]
     },
     "execution_count": 32,
     "metadata": {},
     "output_type": "execute_result"
    }
   ],
   "source": [
    "values.sum()"
   ]
  },
  {
   "cell_type": "code",
   "execution_count": 33,
   "id": "bb9f6cb7",
   "metadata": {},
   "outputs": [],
   "source": [
    "values2d = values.reshape(3, 3)"
   ]
  },
  {
   "cell_type": "code",
   "execution_count": 34,
   "id": "d520cae1",
   "metadata": {},
   "outputs": [
    {
     "data": {
      "text/plain": [
       "array([[ 23,  56, 123],\n",
       "       [ 44, 231,  12],\n",
       "       [109, 134,  28]])"
      ]
     },
     "execution_count": 34,
     "metadata": {},
     "output_type": "execute_result"
    }
   ],
   "source": [
    "values2d"
   ]
  },
  {
   "cell_type": "code",
   "execution_count": 35,
   "id": "3db33a10",
   "metadata": {},
   "outputs": [
    {
     "data": {
      "text/plain": [
       "array([ 12,  23,  28,  44,  56, 109, 123, 134, 231])"
      ]
     },
     "execution_count": 35,
     "metadata": {},
     "output_type": "execute_result"
    }
   ],
   "source": [
    "np.sort(values)"
   ]
  },
  {
   "cell_type": "code",
   "execution_count": 36,
   "id": "ec23d2e8",
   "metadata": {},
   "outputs": [
    {
     "data": {
      "text/plain": [
       "array([ 23,  56, 123,  44, 231,  12, 109, 134,  28])"
      ]
     },
     "execution_count": 36,
     "metadata": {},
     "output_type": "execute_result"
    }
   ],
   "source": [
    "values"
   ]
  },
  {
   "cell_type": "code",
   "execution_count": null,
   "id": "4b3fcbe3",
   "metadata": {},
   "outputs": [],
   "source": []
  }
 ],
 "metadata": {
  "kernelspec": {
   "display_name": "Python 3 (ipykernel)",
   "language": "python",
   "name": "python3"
  },
  "language_info": {
   "codemirror_mode": {
    "name": "ipython",
    "version": 3
   },
   "file_extension": ".py",
   "mimetype": "text/x-python",
   "name": "python",
   "nbconvert_exporter": "python",
   "pygments_lexer": "ipython3",
   "version": "3.11.1"
  }
 },
 "nbformat": 4,
 "nbformat_minor": 5
}

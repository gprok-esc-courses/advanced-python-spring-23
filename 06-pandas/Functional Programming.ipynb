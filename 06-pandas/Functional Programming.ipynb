{
 "cells": [
  {
   "cell_type": "code",
   "execution_count": 1,
   "id": "24b3a65e",
   "metadata": {},
   "outputs": [],
   "source": [
    "def add(a, b):\n",
    "    return a + b"
   ]
  },
  {
   "cell_type": "code",
   "execution_count": 2,
   "id": "96c46155",
   "metadata": {},
   "outputs": [
    {
     "data": {
      "text/plain": [
       "7"
      ]
     },
     "execution_count": 2,
     "metadata": {},
     "output_type": "execute_result"
    }
   ],
   "source": [
    "add(3, 4)"
   ]
  },
  {
   "cell_type": "code",
   "execution_count": 3,
   "id": "37f5d1cc",
   "metadata": {},
   "outputs": [
    {
     "name": "stdout",
     "output_type": "stream",
     "text": [
      "7\n"
     ]
    }
   ],
   "source": [
    "print(add(3, 4))"
   ]
  },
  {
   "cell_type": "code",
   "execution_count": 4,
   "id": "ec77e0c5",
   "metadata": {},
   "outputs": [],
   "source": [
    "add_function = add"
   ]
  },
  {
   "cell_type": "code",
   "execution_count": 5,
   "id": "293ce195",
   "metadata": {},
   "outputs": [
    {
     "data": {
      "text/plain": [
       "7"
      ]
     },
     "execution_count": 5,
     "metadata": {},
     "output_type": "execute_result"
    }
   ],
   "source": [
    "add_function(3, 4)"
   ]
  },
  {
   "cell_type": "code",
   "execution_count": 6,
   "id": "562174e1",
   "metadata": {},
   "outputs": [],
   "source": [
    "func_add = lambda a, b: a + b"
   ]
  },
  {
   "cell_type": "code",
   "execution_count": 7,
   "id": "42ce5395",
   "metadata": {},
   "outputs": [
    {
     "data": {
      "text/plain": [
       "7"
      ]
     },
     "execution_count": 7,
     "metadata": {},
     "output_type": "execute_result"
    }
   ],
   "source": [
    "func_add(3, 4)"
   ]
  },
  {
   "cell_type": "code",
   "execution_count": 8,
   "id": "85e35538",
   "metadata": {},
   "outputs": [],
   "source": [
    "data = [12, 45, 18, 109, 23, 17, 38]"
   ]
  },
  {
   "cell_type": "code",
   "execution_count": 9,
   "id": "3e1aa945",
   "metadata": {},
   "outputs": [
    {
     "name": "stdout",
     "output_type": "stream",
     "text": [
      "45 109 23 38 "
     ]
    }
   ],
   "source": [
    "for value in data:\n",
    "    if value > 20:\n",
    "        print(value, end=\" \")"
   ]
  },
  {
   "cell_type": "code",
   "execution_count": 11,
   "id": "32f44e1f",
   "metadata": {},
   "outputs": [
    {
     "data": {
      "text/plain": [
       "[False, True, False, True, True, False, True]"
      ]
     },
     "execution_count": 11,
     "metadata": {},
     "output_type": "execute_result"
    }
   ],
   "source": [
    "list(map(lambda v: v > 20, data))"
   ]
  },
  {
   "cell_type": "code",
   "execution_count": 12,
   "id": "88335c72",
   "metadata": {},
   "outputs": [
    {
     "data": {
      "text/plain": [
       "[13, 46, 19, 110, 24, 18, 39]"
      ]
     },
     "execution_count": 12,
     "metadata": {},
     "output_type": "execute_result"
    }
   ],
   "source": [
    "list(map(lambda v: v + 1, data))"
   ]
  },
  {
   "cell_type": "code",
   "execution_count": 13,
   "id": "c93bd2bd",
   "metadata": {},
   "outputs": [
    {
     "data": {
      "text/plain": [
       "[12, 45, 18, 109, 23, 17, 38]"
      ]
     },
     "execution_count": 13,
     "metadata": {},
     "output_type": "execute_result"
    }
   ],
   "source": [
    "data"
   ]
  },
  {
   "cell_type": "code",
   "execution_count": 14,
   "id": "ff3a13d1",
   "metadata": {},
   "outputs": [
    {
     "data": {
      "text/plain": [
       "[13, 46, 19, 110, 24, 18, 39]"
      ]
     },
     "execution_count": 14,
     "metadata": {},
     "output_type": "execute_result"
    }
   ],
   "source": [
    "new_data = list(map(lambda v: v + 1, data))\n",
    "new_data"
   ]
  },
  {
   "cell_type": "code",
   "execution_count": 15,
   "id": "74cb0dec",
   "metadata": {},
   "outputs": [],
   "source": [
    "def increase(x):\n",
    "    return x + 1"
   ]
  },
  {
   "cell_type": "code",
   "execution_count": 17,
   "id": "0b0eba17",
   "metadata": {},
   "outputs": [
    {
     "data": {
      "text/plain": [
       "[13, 46, 19, 110, 24, 18, 39]"
      ]
     },
     "execution_count": 17,
     "metadata": {},
     "output_type": "execute_result"
    }
   ],
   "source": [
    "new_data = list(map(lambda x: increase(x), data))\n",
    "new_data"
   ]
  },
  {
   "cell_type": "code",
   "execution_count": 19,
   "id": "732accb7",
   "metadata": {},
   "outputs": [
    {
     "data": {
      "text/plain": [
       "[45, 109, 23, 38]"
      ]
     },
     "execution_count": 19,
     "metadata": {},
     "output_type": "execute_result"
    }
   ],
   "source": [
    "list(filter(lambda v: v > 20, data))"
   ]
  },
  {
   "cell_type": "code",
   "execution_count": 20,
   "id": "dd51c8c0",
   "metadata": {},
   "outputs": [
    {
     "data": {
      "text/plain": [
       "[12, 45, 18, 109, 23, 17, 38]"
      ]
     },
     "execution_count": 20,
     "metadata": {},
     "output_type": "execute_result"
    }
   ],
   "source": [
    "data"
   ]
  },
  {
   "cell_type": "code",
   "execution_count": 21,
   "id": "987dca16",
   "metadata": {},
   "outputs": [
    {
     "data": {
      "text/plain": [
       "[12, 17, 18, 23, 38, 45, 109]"
      ]
     },
     "execution_count": 21,
     "metadata": {},
     "output_type": "execute_result"
    }
   ],
   "source": [
    "sorted(data)"
   ]
  },
  {
   "cell_type": "code",
   "execution_count": 22,
   "id": "cd0efd8a",
   "metadata": {},
   "outputs": [
    {
     "data": {
      "text/plain": [
       "[12, 45, 18, 109, 23, 17, 38]"
      ]
     },
     "execution_count": 22,
     "metadata": {},
     "output_type": "execute_result"
    }
   ],
   "source": [
    "data"
   ]
  },
  {
   "cell_type": "code",
   "execution_count": 23,
   "id": "dec659ae",
   "metadata": {},
   "outputs": [],
   "source": [
    "names = ['Mike', 'Peter', 'Samuel', 'Tom', 'William', 'Nick']"
   ]
  },
  {
   "cell_type": "code",
   "execution_count": 24,
   "id": "201e87bc",
   "metadata": {},
   "outputs": [
    {
     "data": {
      "text/plain": [
       "['Mike', 'Nick', 'Peter', 'Samuel', 'Tom', 'William']"
      ]
     },
     "execution_count": 24,
     "metadata": {},
     "output_type": "execute_result"
    }
   ],
   "source": [
    "sorted(names)"
   ]
  },
  {
   "cell_type": "code",
   "execution_count": 27,
   "id": "dc78d4a2",
   "metadata": {},
   "outputs": [
    {
     "data": {
      "text/plain": [
       "['Samuel', 'Peter', 'Nick', 'Mike', 'William', 'Tom']"
      ]
     },
     "execution_count": 27,
     "metadata": {},
     "output_type": "execute_result"
    }
   ],
   "source": [
    "sorted(names, key=lambda w: w[1:3])"
   ]
  },
  {
   "cell_type": "code",
   "execution_count": 29,
   "id": "e41a4ced",
   "metadata": {},
   "outputs": [
    {
     "data": {
      "text/plain": [
       "['am', 'et', 'ic', 'ik', 'il', 'om']"
      ]
     },
     "execution_count": 29,
     "metadata": {},
     "output_type": "execute_result"
    }
   ],
   "source": [
    "sorted(list(map(lambda w: w[1:3], names)))"
   ]
  },
  {
   "cell_type": "code",
   "execution_count": 31,
   "id": "cca0a688",
   "metadata": {},
   "outputs": [
    {
     "data": {
      "text/plain": [
       "262"
      ]
     },
     "execution_count": 31,
     "metadata": {},
     "output_type": "execute_result"
    }
   ],
   "source": [
    "from functools import reduce\n",
    "reduce(lambda x, y: x + y, data)"
   ]
  },
  {
   "cell_type": "code",
   "execution_count": 32,
   "id": "2c925850",
   "metadata": {},
   "outputs": [
    {
     "data": {
      "text/plain": [
       "109"
      ]
     },
     "execution_count": 32,
     "metadata": {},
     "output_type": "execute_result"
    }
   ],
   "source": [
    "reduce(lambda x, y: x if x > y else y, data)"
   ]
  },
  {
   "cell_type": "code",
   "execution_count": 33,
   "id": "6d4adbce",
   "metadata": {},
   "outputs": [
    {
     "data": {
      "text/plain": [
       "362"
      ]
     },
     "execution_count": 33,
     "metadata": {},
     "output_type": "execute_result"
    }
   ],
   "source": [
    "reduce(lambda x, y: x + y, data, 100)"
   ]
  },
  {
   "cell_type": "code",
   "execution_count": 34,
   "id": "6d35ed81",
   "metadata": {},
   "outputs": [],
   "source": [
    "import pandas as pd\n",
    "import numpy as np"
   ]
  },
  {
   "cell_type": "code",
   "execution_count": 35,
   "id": "9cb207ae",
   "metadata": {},
   "outputs": [],
   "source": [
    "mydata = [\n",
    "    [\"Greece\", 78], [\"Czech\", 90], [\"Albania\", 81], [\"Lebanon\", 34]\n",
    "]"
   ]
  },
  {
   "cell_type": "code",
   "execution_count": 37,
   "id": "a2922eeb",
   "metadata": {},
   "outputs": [],
   "source": [
    "import matplotlib.pyplot as plt\n",
    "import seaborn as sns"
   ]
  },
  {
   "cell_type": "code",
   "execution_count": 38,
   "id": "58be5623",
   "metadata": {},
   "outputs": [],
   "source": [
    "df = pd.DataFrame(mydata, columns=['country', 'value'])"
   ]
  },
  {
   "cell_type": "code",
   "execution_count": 39,
   "id": "b308cf9b",
   "metadata": {},
   "outputs": [
    {
     "data": {
      "text/html": [
       "<div>\n",
       "<style scoped>\n",
       "    .dataframe tbody tr th:only-of-type {\n",
       "        vertical-align: middle;\n",
       "    }\n",
       "\n",
       "    .dataframe tbody tr th {\n",
       "        vertical-align: top;\n",
       "    }\n",
       "\n",
       "    .dataframe thead th {\n",
       "        text-align: right;\n",
       "    }\n",
       "</style>\n",
       "<table border=\"1\" class=\"dataframe\">\n",
       "  <thead>\n",
       "    <tr style=\"text-align: right;\">\n",
       "      <th></th>\n",
       "      <th>country</th>\n",
       "      <th>value</th>\n",
       "    </tr>\n",
       "  </thead>\n",
       "  <tbody>\n",
       "    <tr>\n",
       "      <th>0</th>\n",
       "      <td>Greece</td>\n",
       "      <td>78</td>\n",
       "    </tr>\n",
       "    <tr>\n",
       "      <th>1</th>\n",
       "      <td>Czech</td>\n",
       "      <td>90</td>\n",
       "    </tr>\n",
       "    <tr>\n",
       "      <th>2</th>\n",
       "      <td>Albania</td>\n",
       "      <td>81</td>\n",
       "    </tr>\n",
       "    <tr>\n",
       "      <th>3</th>\n",
       "      <td>Lebanon</td>\n",
       "      <td>34</td>\n",
       "    </tr>\n",
       "  </tbody>\n",
       "</table>\n",
       "</div>"
      ],
      "text/plain": [
       "   country  value\n",
       "0   Greece     78\n",
       "1    Czech     90\n",
       "2  Albania     81\n",
       "3  Lebanon     34"
      ]
     },
     "execution_count": 39,
     "metadata": {},
     "output_type": "execute_result"
    }
   ],
   "source": [
    "df"
   ]
  },
  {
   "cell_type": "code",
   "execution_count": 48,
   "id": "5ac83414",
   "metadata": {},
   "outputs": [
    {
     "data": {
      "text/plain": [
       "<BarContainer object of 4 artists>"
      ]
     },
     "execution_count": 48,
     "metadata": {},
     "output_type": "execute_result"
    },
    {
     "data": {
      "image/png": "[encoded data removed]",
      "text/plain": [
       "<Figure size 640x480 with 1 Axes>"
      ]
     },
     "metadata": {},
     "output_type": "display_data"
    }
   ],
   "source": [
    "plt.bar(df['country'], df['value'])"
   ]
  },
  {
   "cell_type": "code",
   "execution_count": 55,
   "id": "2fbfb3b0",
   "metadata": {},
   "outputs": [
    {
     "data": {
      "text/plain": [
       "([<matplotlib.patches.Wedge at 0x12d89ef90>,\n",
       "  <matplotlib.patches.Wedge at 0x12d8be7d0>,\n",
       "  <matplotlib.patches.Wedge at 0x12d8bf8d0>,\n",
       "  <matplotlib.patches.Wedge at 0x12d8cc950>],\n",
       " [Text(0.7127665578590986, 0.8378328198379987, ''),\n",
       "  Text(-1.0085089327895698, 0.43921490466927837, ''),\n",
       "  Text(-0.09147768573964729, -1.0961896884261038, ''),\n",
       "  Text(1.0225742634308215, -0.405391015895657, '')])"
      ]
     },
     "execution_count": 55,
     "metadata": {},
     "output_type": "execute_result"
    },
    {
     "data": {
      "image/png": "[encoded data removed]",
      "text/plain": [
       "<Figure size 640x480 with 1 Axes>"
      ]
     },
     "metadata": {},
     "output_type": "display_data"
    }
   ],
   "source": [
    "v = np.array(df['value'])\n",
    "v\n",
    "plt.pie(v)"
   ]
  },
  {
   "cell_type": "code",
   "execution_count": null,
   "id": "97843dd9",
   "metadata": {},
   "outputs": [],
   "source": []
  }
 ],
 "metadata": {
  "kernelspec": {
   "display_name": "Python 3 (ipykernel)",
   "language": "python",
   "name": "python3"
  },
  "language_info": {
   "codemirror_mode": {
    "name": "ipython",
    "version": 3
   },
   "file_extension": ".py",
   "mimetype": "text/x-python",
   "name": "python",
   "nbconvert_exporter": "python",
   "pygments_lexer": "ipython3",
   "version": "3.11.1"
  }
 },
 "nbformat": 4,
 "nbformat_minor": 5
}
